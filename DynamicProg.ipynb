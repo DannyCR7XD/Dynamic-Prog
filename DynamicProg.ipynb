{
  "nbformat": 4,
  "nbformat_minor": 0,
  "metadata": {
    "colab": {
      "name": "DynamicProg.ipynb",
      "provenance": [],
      "collapsed_sections": [],
      "authorship_tag": "ABX9TyNdN3ZTOec0aby9MylbCctY",
      "include_colab_link": true
    },
    "kernelspec": {
      "name": "python3",
      "display_name": "Python 3"
    },
    "language_info": {
      "name": "python"
    }
  },
  "cells": [
    {
      "cell_type": "markdown",
      "metadata": {
        "id": "view-in-github",
        "colab_type": "text"
      },
      "source": [
        "<a href=\"https://colab.research.google.com/github/DannyCR7XD/Dynamic-Prog/blob/main/DynamicProg.ipynb\" target=\"_parent\"><img src=\"https://colab.research.google.com/assets/colab-badge.svg\" alt=\"Open In Colab\"/></a>"
      ]
    },
    {
      "cell_type": "code",
      "metadata": {
        "id": "bov4K_ezybW6"
      },
      "source": [
        "F('4')\n",
        "\n",
        "def F(n):\n",
        "    if n == 0 or n == 1:\n",
        "      return n\n",
        "    else:\n",
        "      return F(n-1)+F(n-2)\n"
      ],
      "execution_count": null,
      "outputs": []
    },
    {
      "cell_type": "code",
      "metadata": {
        "id": "tHAGPeoS1Ghj"
      },
      "source": [
        ""
      ],
      "execution_count": null,
      "outputs": []
    },
    {
      "cell_type": "code",
      "metadata": {
        "id": "df_i0mMyz-J-"
      },
      "source": [
        "def fibonacciVal(n):\n",
        "    memo[0], memo[1] = 0, 1\n",
        "    for i in range(2, n+1):\n",
        "        memo[i] = memo[i-1] + memo[i-2]\n",
        "    return memo[n]"
      ],
      "execution_count": null,
      "outputs": []
    },
    {
      "cell_type": "code",
      "metadata": {
        "id": "e6oHoUZz2cLj"
      },
      "source": [
        ""
      ],
      "execution_count": null,
      "outputs": []
    },
    {
      "cell_type": "code",
      "metadata": {
        "id": "-wuc6ZOK2csb"
      },
      "source": [
        "# Python program for weighted job scheduling using Dynamic \n",
        "    # Programming and Binary Search \n",
        "    \n",
        "    # Class to represent a job \n",
        "    class Job: \n",
        "    \tdef __init__(self, start, finish, profit): \n",
        "    \t\tself.start = start \n",
        "    \t\tself.finish = finish \n",
        "    \t\tself.profit = profit \n",
        "    \n",
        "    \n",
        "    # A Binary Search based function to find the latest job \n",
        "    # (before current job) that doesn't conflict with current \n",
        "    # job. \"index\" is index of the current job. This function \n",
        "    # returns -1 if all jobs before index conflict with it. \n",
        "    def binarySearch(job, start_index): \n",
        "    \t# https://en.wikipedia.org/wiki/Binary_search_algorithm\n",
        "    \n",
        "    \t# Initialize 'lo' and 'hi' for Binary Search \n",
        "    \tlo = 0\n",
        "    \thi = start_index - 1\n",
        "    \n",
        "    \t# Perform binary Search iteratively \n",
        "    \twhile lo <= hi: \n",
        "    \t\tmid = (lo + hi) // 2\n",
        "    \t\tif job[mid].finish <= job[start_index].start: \n",
        "    \t\t\tif job[mid + 1].finish <= job[start_index].start: \n",
        "    \t\t\t\tlo = mid + 1\n",
        "    \t\t\telse: \n",
        "    \t\t\t\treturn mid \n",
        "    \t\telse: \n",
        "    \t\t\thi = mid - 1\n",
        "    \treturn -1\n",
        "    \n",
        "    # The main function that returns the maximum possible \n",
        "    # profit from given array of jobs \n",
        "    def schedule(job): \n",
        "    \t# Sort jobs according to start time \n",
        "    \tjob = sorted(job, key = lambda j: j.start) \n",
        "    \n",
        "    \t# Create an array to store solutions of subproblems. table[i] \n",
        "    \t# stores the profit for jobs till arr[i] (including arr[i]) \n",
        "    \tn = len(job) \n",
        "    \ttable = [0 for _ in range(n)] \n",
        "    \n",
        "    \ttable[0] = job[0].profit; \n",
        "    \n",
        "    \t# Fill entries in table[] using recursive property \n",
        "    \tfor i in range(1, n): \n",
        "    \n",
        "    \t\t# Find profit including the current job \n",
        "    \t\tinclProf = job[i].profit \n",
        "    \t\tl = binarySearch(job, i) \n",
        "    \t\tif (l != -1): \n",
        "    \t\t\tinclProf += table[l]; \n",
        "    \n",
        "    \t\t# Store maximum of including and excluding \n",
        "    \t\ttable[i] = max(inclProf, table[i - 1]) \n",
        "    \n",
        "    \treturn table[n-1] \n",
        "    \n",
        "    # Driver code to test above function \n",
        "    job = [Job(1, 2, 50), Job(3, 5, 20), \n",
        "    \tJob(6, 19, 100), Job(2, 100, 200)] \n",
        "    print(\"Optimal profit is\"), \n",
        "    print(schedule(job))"
      ],
      "execution_count": null,
      "outputs": []
    },
    {
      "cell_type": "code",
      "metadata": {
        "id": "m8RJhSv422LK"
      },
      "source": [
        ""
      ],
      "execution_count": null,
      "outputs": []
    },
    {
      "cell_type": "code",
      "metadata": {
        "colab": {
          "base_uri": "https://localhost:8080/"
        },
        "id": "9Qu8I3Vy22Wh",
        "outputId": "fa1b7d82-f559-4433-89fd-f522d1cba9b6"
      },
      "source": [
        "# A Naive recursive solution\n",
        "# for Rod cutting problem\n",
        "import sys\n",
        "\n",
        "from datetime import datetime\n",
        "startTime = datetime.now()\n",
        "\n",
        "# A utility function to get the\n",
        "# maximum of two integers\n",
        "def max(a, b):\n",
        "    return a if (a > b) else b\n",
        "     \n",
        "# Returns the best obtainable price for a rod of length n\n",
        "# and price[] as prices of different pieces\n",
        "def cutRod(price, n):\n",
        "    if(n <= 0):\n",
        "        return 0\n",
        "    max_val = -sys.maxsize-1\n",
        "     \n",
        "    # Recursively cut the rod in different pieces \n",
        "    # and compare different configurations\n",
        "    for i in range(0, n):\n",
        "        max_val = max(max_val, price[i] +\n",
        "                      cutRod(price, n - i - 1))\n",
        "    return max_val\n",
        " \n",
        "# Driver code\n",
        "arr = [1, 5, 8, 9, 10, 17, 17, 20]\n",
        "size = len(arr)\n",
        "print(\"Maximum Obtainable Value is\", cutRod(arr, size))\n",
        "\n",
        "print (datetime.now() - startTime)\n",
        " \n",
        "# This code is contributed by 'Smitha Dinesh Semwal'"
      ],
      "execution_count": null,
      "outputs": [
        {
          "output_type": "stream",
          "name": "stdout",
          "text": [
            "Maximum Obtainable Value is 22\n",
            "0:00:00.002800\n"
          ]
        }
      ]
    },
    {
      "cell_type": "code",
      "metadata": {
        "id": "zii221R43xqH"
      },
      "source": [
        ""
      ],
      "execution_count": null,
      "outputs": []
    },
    {
      "cell_type": "code",
      "metadata": {
        "colab": {
          "base_uri": "https://localhost:8080/"
        },
        "id": "cKdfcYE43xzk",
        "outputId": "8d9137d8-e565-4b13-e910-c98217d1cc20"
      },
      "source": [
        "# A Dynamic Programming solution for Rod cutting problem\n",
        "from datetime import datetime\n",
        "startTime = datetime.now()\n",
        "\n",
        "INT_MIN = -32767\n",
        " \n",
        "# Returns the best obtainable price for a rod of length n and\n",
        "# price[] as prices of different pieces\n",
        "def cutRod(price, n):\n",
        "    val = [0 for x in range(n+1)]\n",
        "    val[0] = 0\n",
        " \n",
        "    # Build the table val[] in bottom up manner and return\n",
        "    # the last entry from the table\n",
        "    for i in range(1, n+1):\n",
        "        max_val = INT_MIN\n",
        "        for j in range(i):\n",
        "             max_val = max(max_val, price[j] + val[i-j-1])\n",
        "        val[i] = max_val\n",
        " \n",
        "    return val[n]\n",
        " \n",
        "# Driver program to test above functions\n",
        "arr = [1, 5, 8, 9, 10, 17, 17, 20]\n",
        "size = len(arr)\n",
        "print(\"Maximum Obtainable Value is \" + str(cutRod(arr, size)))\n",
        " \n",
        "print (datetime.now() - startTime)"
      ],
      "execution_count": null,
      "outputs": [
        {
          "output_type": "stream",
          "name": "stdout",
          "text": [
            "Maximum Obtainable Value is 22\n",
            "0:00:00.000423\n"
          ]
        }
      ]
    },
    {
      "cell_type": "code",
      "metadata": {
        "id": "RWochLN_5FQn"
      },
      "source": [
        ""
      ],
      "execution_count": null,
      "outputs": []
    },
    {
      "cell_type": "code",
      "metadata": {
        "id": "budhdqG75Fat",
        "colab": {
          "base_uri": "https://localhost:8080/"
        },
        "outputId": "9e85bf5c-8963-4baf-a494-c1d356b97793"
      },
      "source": [
        "import sys\n",
        " \n",
        " \n",
        "# Function to find the most efficient way to multiply\n",
        "# a given sequence of matrices\n",
        "def matrixChainMultiplication(dims, i, j):\n",
        " \n",
        "    # base case: one matrix\n",
        "    if j <= i + 1:\n",
        "        return 0\n",
        " \n",
        "    # stores the minimum number of scalar multiplications (i.e., cost)\n",
        "    # needed to compute matrix `M[i+1] … M[j] = M[i…j]`\n",
        "    min = sys.maxsize\n",
        " \n",
        "    # take the minimum over each possible position at which the\n",
        "    # sequence of matrices can be split\n",
        " \n",
        "    '''\n",
        "        (M[i+1]) × (M[i+2]………………M[j])\n",
        "        (M[i+1]M[i+2]) × (M[i+3…………M[j])\n",
        "        …\n",
        "        …\n",
        "        (M[i+1]M[i+2]…………M[j-1]) × (M[j])\n",
        "    '''\n",
        " \n",
        "    for k in range(i + 1, j):\n",
        " \n",
        "        # recur for `M[i+1]…M[k]` to get an `i × k` matrix\n",
        "        cost = matrixChainMultiplication(dims, i, k)\n",
        " \n",
        "        # recur for `M[k+1]…M[j]` to get an `k × j` matrix\n",
        "        cost += matrixChainMultiplication(dims, k, j)\n",
        " \n",
        "        # cost to multiply two `i × k` and `k × j` matrix\n",
        "        cost += dims[i] * dims[k] * dims[j]\n",
        " \n",
        "        if cost < min:\n",
        "            min = cost\n",
        " \n",
        "    # return the minimum cost to multiply `M[j+1]…M[j]`\n",
        "    return min\n",
        " \n",
        " \n",
        "# Matrix Chain Multiplication Problem\n",
        "if __name__ == '__main__':\n",
        " \n",
        "    # Matrix `M[i]` has dimension `dims[i-1] × dims[i]` for `i = 1…n`\n",
        "    # input is `10 × 30` matrix, `30 × 5` matrix, `5 × 60` matrix\n",
        "    dims = [10, 30, 5, 60]\n",
        " \n",
        "    print(\"The minimum cost is\", matrixChainMultiplication(dims, 0, len(dims) - 1))"
      ],
      "execution_count": 1,
      "outputs": [
        {
          "output_type": "stream",
          "name": "stdout",
          "text": [
            "The minimum cost is 4500\n"
          ]
        }
      ]
    },
    {
      "cell_type": "code",
      "metadata": {
        "id": "EwAUP4fn0b6B"
      },
      "source": [
        ""
      ],
      "execution_count": null,
      "outputs": []
    },
    {
      "cell_type": "code",
      "metadata": {
        "colab": {
          "base_uri": "https://localhost:8080/"
        },
        "id": "I7WjnWA20cM0",
        "outputId": "bb1d4365-ac96-4ba7-ff14-347a7c3b54f7"
      },
      "source": [
        "import sys\n",
        " \n",
        " \n",
        "# Function to find the most efficient way to multiply\n",
        "# a given sequence of matrices\n",
        "def matrixChainMultiplication(dims, i, j, T):\n",
        " \n",
        "    # base case: one matrix\n",
        "    if j <= i + 1:\n",
        "        return 0\n",
        " \n",
        "    # stores the minimum number of scalar multiplications (i.e., cost)\n",
        "    # needed to compute matrix `M[i+1] … M[j] = M[i…j]`\n",
        "    min = sys.maxsize\n",
        " \n",
        "    # if the subproblem is seen for the first time, solve it and\n",
        "    # store its result in a lookup table\n",
        "    if T[i][j] == 0:\n",
        " \n",
        "        # take the minimum over each possible position at which the\n",
        "        # sequence of matrices can be split\n",
        " \n",
        "        '''\n",
        "            (M[i+1]) × (M[i+2]………………M[j])\n",
        "            (M[i+1]M[i+2]) × (M[i+3…………M[j])\n",
        "            …\n",
        "            …\n",
        "            (M[i+1]M[i+2]…………M[j-1]) × (M[j])\n",
        "        '''\n",
        " \n",
        "        for k in range(i + 1, j):\n",
        " \n",
        "            # recur for `M[i+1]…M[k]` to get an `i × k` matrix\n",
        "            cost = matrixChainMultiplication(dims, i, k, T)\n",
        " \n",
        "            # recur for `M[k+1]…M[j]` to get an `k × j` matrix\n",
        "            cost += matrixChainMultiplication(dims, k, j, T)\n",
        " \n",
        "            # cost to multiply two `i × k` and `k × j` matrix\n",
        "            cost += dims[i] * dims[k] * dims[j]\n",
        " \n",
        "            if cost < min:\n",
        "                min = cost\n",
        " \n",
        "        T[i][j] = min\n",
        " \n",
        "    # return the minimum cost to multiply `M[j+1]…M[j]`\n",
        "    return T[i][j]\n",
        " \n",
        " \n",
        "if __name__ == '__main__':\n",
        " \n",
        "    # Matrix `M[i]` has dimension `dims[i-1] × dims[i]` for `i = 1…n`\n",
        "    # input is `10 × 30` matrix, `30 × 5` matrix, `5 × 60` matrix\n",
        "    dims = [10, 30, 5, 60]\n",
        " \n",
        "    # lookup table to store the solution to already computed subproblems\n",
        "    T = [[0 for x in range(len(dims))] for y in range(len(dims))]\n",
        " \n",
        "    print(\"The minimum cost is\", matrixChainMultiplication(dims, 0, len(dims) - 1, T))"
      ],
      "execution_count": 2,
      "outputs": [
        {
          "output_type": "stream",
          "name": "stdout",
          "text": [
            "The minimum cost is 4500\n"
          ]
        }
      ]
    },
    {
      "cell_type": "code",
      "metadata": {
        "id": "yIdQ3PQT0cXf"
      },
      "source": [
        ""
      ],
      "execution_count": null,
      "outputs": []
    },
    {
      "cell_type": "code",
      "metadata": {
        "colab": {
          "base_uri": "https://localhost:8080/"
        },
        "id": "PV9vXt240cgH",
        "outputId": "a21ab296-be67-41cb-8288-5ce810525340"
      },
      "source": [
        "# Python program to solve\n",
        "# Gold Mine problem\n",
        " \n",
        "MAX = 100\n",
        " \n",
        "# Returns maximum amount of\n",
        "# gold that can be collected\n",
        "# when journey started from\n",
        "# first column and moves\n",
        "# allowed are right, right-up\n",
        "# and right-down\n",
        "def getMaxGold(gold, m, n):\n",
        " \n",
        "    # Create a table for storing\n",
        "    # intermediate results\n",
        "    # and initialize all cells to 0.\n",
        "    # The first row of\n",
        "    # goldMineTable gives the\n",
        "    # maximum gold that the miner\n",
        "    # can collect when starts that row\n",
        "    goldTable = [[0 for i in range(n)]\n",
        "                        for j in range(m)]\n",
        " \n",
        "    for col in range(n-1, -1, -1):\n",
        "        for row in range(m):\n",
        " \n",
        "            # Gold collected on going to\n",
        "            # the cell on the rigth(->)\n",
        "            if (col == n-1):\n",
        "                right = 0\n",
        "            else:\n",
        "                right = goldTable[row][col+1]\n",
        " \n",
        "            # Gold collected on going to\n",
        "            # the cell to right up (/)\n",
        "            if (row == 0 or col == n-1):\n",
        "                right_up = 0\n",
        "            else:\n",
        "                right_up = goldTable[row-1][col+1]\n",
        " \n",
        "            # Gold collected on going to\n",
        "            # the cell to right down (\\)\n",
        "            if (row == m-1 or col == n-1):\n",
        "                right_down = 0\n",
        "            else:\n",
        "                right_down = goldTable[row+1][col+1]\n",
        " \n",
        "            # Max gold collected from taking\n",
        "            # either of the above 3 paths\n",
        "            goldTable[row][col] = gold[row][col] + max(right, right_up, right_down)\n",
        "                                                            \n",
        "    # The max amount of gold\n",
        "    # collected will be the max\n",
        "    # value in first column of all rows\n",
        "    res = goldTable[0][0]\n",
        "    for i in range(1, m):\n",
        "        res = max(res, goldTable[i][0])\n",
        " \n",
        "    return res\n",
        "     \n",
        "# Driver code\n",
        "gold = [[1, 3, 1, 5],\n",
        "    [2, 2, 4, 1],\n",
        "    [5, 0, 2, 3],\n",
        "    [0, 6, 1, 2]]\n",
        " \n",
        "m = 4\n",
        "n = 4\n",
        " \n",
        "print(getMaxGold(gold, m, n))"
      ],
      "execution_count": 3,
      "outputs": [
        {
          "output_type": "stream",
          "name": "stdout",
          "text": [
            "16\n"
          ]
        }
      ]
    }
  ]
}